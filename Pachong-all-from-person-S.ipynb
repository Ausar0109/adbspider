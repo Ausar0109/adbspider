{
 "cells": [
  {
   "cell_type": "code",
   "execution_count": 1,
   "metadata": {},
   "outputs": [],
   "source": [
    "from selenium import webdriver\n",
    "import time,re,random,sys\n",
    "import pandas as pd\n",
    "\n",
    "driver = webdriver.Chrome()\n",
    "driver.set_window_size(400,1000)"
   ]
  },
  {
   "cell_type": "code",
   "execution_count": 2,
   "metadata": {},
   "outputs": [],
   "source": [
    "attitude_keyurl = r'<a href=\".{4,5}://weibo.cn/attitude/.*?</a>'\n",
    "repost_keyurl = r'<a href=\".{4,5}://weibo.cn/repost/.*?</a>'\n",
    "comment_keyurl = r'<a href=\".{4,5}://weibo.cn/comment/.{45,52}>评论.*?</a>'\n",
    "def makeattitudeurllist(x):\n",
    "    uum = weibodf.iloc[x]\n",
    "    attitude_url = ['https://weibo.cn/attitude/'+uum['id']+'?rl=1&page='+str(x) \n",
    "                    for x in range(1,int(uum['attitude_num'])//10+2,1)]\n",
    "    return(attitude_url)\n",
    "def makereposturllist(x):\n",
    "    uum = weibodf.iloc[x]\n",
    "    repost_url = ['https://weibo.cn/repost/'+uum['id']+'?uid='+uum['uid']+'&&page='+str(x) \n",
    "                  for x in range(1,int(uum['repost_num'])//10+2,1)]\n",
    "    return(repost_url)\n",
    "def makecommenturllist(x):\n",
    "    uum = weibodf.iloc[x]\n",
    "    comment_url = ['https://weibo.cn/comment/'+uum['id']+'?&uid='+uum['uid']+'&&page='+str(x) \n",
    "                   for x in range(1,int(uum['comment_num'])//10+2,1)]\n",
    "    return(comment_url)\n",
    "\n",
    "def makedf():\n",
    "    global weibodf\n",
    "    weibodf.index = range(len(weibodf))\n",
    "    weibodf['No'] = range(len(weibodf))\n",
    "    weibodf['id'] = weibodf['repost'].map(lambda x:re.findall('[A-Za-z][A-Z0-9a-z]{8}',x)[0])\n",
    "    weibodf['uid'] = weibodf['repost'].map(lambda x:re.findall('[0-9]{8,10}',x)[0])\n",
    "    weibodf['attitude_num'] = weibodf['attitude'].map(lambda x:re.findall(r'赞.*?<',x)[0][2:-2])\n",
    "    weibodf['repost_num'] = weibodf['repost'].map(lambda x:re.findall(r'转发.*?<',x)[0][3:-2])\n",
    "    weibodf['comment_num'] = weibodf['comment'].map(lambda x:re.findall(r'评论.*?<',x)[0][3:-2])\n",
    "    weibodf['attitude_list'] = weibodf['No'].map(makeattitudeurllist)\n",
    "    weibodf['repost_list'] = weibodf['No'].map(makereposturllist)\n",
    "    weibodf['comment_list'] = weibodf['No'].map(makecommenturllist)\n",
    "    weibodf['all_list'] = weibodf['attitude_list']+weibodf['comment_list']#+weibodf['repost_list']"
   ]
  },
  {
   "cell_type": "code",
   "execution_count": 3,
   "metadata": {},
   "outputs": [],
   "source": [
    "ordernm = 0\n",
    "zhdf = pd.read_excel('zhmm.xlsx')\n",
    "zhanghao,mima = zhdf.iloc[ordernm]['zhanghao'],zhdf.iloc[ordernm]['mima']\n",
    "driver.get('https://passport.weibo.cn/signin/login?');time.sleep(3)\n",
    "elem = driver.find_element_by_id('loginName')\n",
    "elem.send_keys(zhanghao)\n",
    "elem = driver.find_element_by_id('loginPassword')\n",
    "elem.send_keys(mima)\n",
    "driver.find_element_by_id('loginAction').click();time.sleep(5)"
   ]
  },
  {
   "cell_type": "code",
   "execution_count": null,
   "metadata": {},
   "outputs": [
    {
     "name": "stdout",
     "output_type": "stream",
     "text": [
      "ID6171388940\n",
      "30563\n",
      "表序数 7028--ID总数量 23204\r"
     ]
    }
   ],
   "source": [
    "for i in [\n",
    "'6171388940',\n",
    "'5615627418',\n",
    "'5350509769',\n",
    "'2447034645'\n",
    "]:\n",
    "    topicname = 'ID'+i\n",
    "    homepage = r'https://weibo.cn/u/%s?page=' % i\n",
    "    \n",
    "    weibodf = pd.DataFrame()\n",
    "    uidlist = pd.Series()\n",
    "    for homelist in range(1,3,1):\n",
    "        url = homepage+str(homelist)\n",
    "        driver.get(url)\n",
    "        time.sleep(1.5)\n",
    "        df = pd.DataFrame({\n",
    "            'attitude':re.findall(attitude_keyurl,driver.page_source),\n",
    "            'repost':re.findall(repost_keyurl,driver.page_source),\n",
    "            'comment':re.findall(comment_keyurl,driver.page_source)})\n",
    "        if homelist == 1:\n",
    "            df = df.iloc[1:]\n",
    "        weibodf = pd.concat([weibodf,df]).drop_duplicates()\n",
    "\n",
    "    makedf()\n",
    "    llist = []\n",
    "    for x in weibodf['all_list']:\n",
    "        for y in x:\n",
    "            llist.append(y)\n",
    "    mar = 0\n",
    "    del(weibodf)\n",
    "    print(topicname)\n",
    "    print(len(llist))\n",
    "\n",
    "    while mar < len(llist):\n",
    "        driver.get(llist[mar])\n",
    "        time.sleep(random.randint(200,300)/100)\n",
    "        uid = pd.Series(re.findall(r'/u/[0-9]{8,10}',driver.page_source))\n",
    "        uid = uid.map(lambda x:x[3:])\n",
    "        uidlist = pd.concat([uidlist,uid])\n",
    "        if len(uid) < 2:mar += random.randint(2,6)\n",
    "        else: mar += 1        \n",
    "        sys.stdout.write('表序数 %s--ID总数量 %s\\r'%(mar,len(uidlist)))\n",
    "        sys.stdout.flush()\n",
    "        if mar > random.randint(30000,30123):\n",
    "            break\n",
    "    \n",
    "    uidlist.drop_duplicates() \\\n",
    "    .to_csv('%s-%s-%s-%s.csv'%(mar*10,len(uidlist),\n",
    "                                          len(uidlist.drop_duplicates()),topicname),index=False,encoding='utf-8')"
   ]
  },
  {
   "cell_type": "code",
   "execution_count": null,
   "metadata": {},
   "outputs": [],
   "source": [
    "driver.close()"
   ]
  },
  {
   "cell_type": "code",
   "execution_count": null,
   "metadata": {},
   "outputs": [],
   "source": []
  }
 ],
 "metadata": {
  "kernelspec": {
   "display_name": "Python 3",
   "language": "python",
   "name": "python3"
  },
  "language_info": {
   "codemirror_mode": {
    "name": "ipython",
    "version": 3
   },
   "file_extension": ".py",
   "mimetype": "text/x-python",
   "name": "python",
   "nbconvert_exporter": "python",
   "pygments_lexer": "ipython3",
   "version": "3.6.8"
  }
 },
 "nbformat": 4,
 "nbformat_minor": 1
}
