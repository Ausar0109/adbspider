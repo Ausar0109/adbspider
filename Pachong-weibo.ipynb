{
 "cells": [
  {
   "cell_type": "code",
   "execution_count": 5,
   "metadata": {},
   "outputs": [],
   "source": [
    "from selenium import webdriver\n",
    "import time,re,random,sys\n",
    "import pandas as pd\n",
    "import jieba.analyse\n",
    "\n",
    "driver = webdriver.Chrome()\n",
    "driver.set_window_size(800,800)"
   ]
  },
  {
   "cell_type": "code",
   "execution_count": 6,
   "metadata": {
    "scrolled": false
   },
   "outputs": [],
   "source": [
    "ordernm = -2\n",
    "zhdf = pd.read_excel('zhmm.xlsx')\n",
    "zhanghao,mima = zhdf.iloc[ordernm]['zhanghao'],zhdf.iloc[ordernm]['mima']\n",
    "driver.get('https://passport.weibo.cn/signin/login?');time.sleep(1)\n",
    "elem = driver.find_element_by_id('loginName')\n",
    "elem.send_keys(zhanghao)\n",
    "elem = driver.find_element_by_id('loginPassword')\n",
    "elem.send_keys(mima)\n",
    "driver.find_element_by_id('loginAction').click();time.sleep(5)"
   ]
  },
  {
   "cell_type": "code",
   "execution_count": null,
   "metadata": {},
   "outputs": [],
   "source": [
    "topicname = '维多利亚的秘密'\n",
    "homepage = r'https://weibo.cn/search/mblog?hideSearchFrame=&keyword=维多利亚的秘密&page='\n",
    "    \n",
    "weibodf = pd.Series()\n",
    "for homelist in range(1,101,1):\n",
    "    url = homepage+str(homelist)\n",
    "    driver.get(url)\n",
    "    time.sleep(2)\n",
    "    df = pd.Series(re.findall(r'<span class=\"ctt\">.*?赞',driver.page_source))\n",
    "    df = df.str.replace(r'</span><br />',',')\n",
    "    df = df.str.replace(r'<.*?>','')\n",
    "    df = df.map(lambda x:''.join(re.findall(u'[\\u4E00-\\u9FA5，。？！ 0-9.￥a-z@#\\[\\]\\*]',x)))\n",
    "    df = df.str.replace('组图|\\[图片\\]|赞|共.*?张|显示地图|原图','')\n",
    "    df = df.str.replace(r'\\[\\]','')\n",
    "    df = df.str.replace(' |,,',',');df = df.str.replace(',,',',');df = df.str.replace(',,',',')\n",
    "    \n",
    "    weibodf = pd.concat([weibodf,df])\n",
    "\n",
    "weibodf\n",
    "weibodf.to_csv(topicname+'.csv',index=False,encoding='gb18030')"
   ]
  },
  {
   "cell_type": "code",
   "execution_count": null,
   "metadata": {},
   "outputs": [],
   "source": []
  },
  {
   "cell_type": "code",
   "execution_count": null,
   "metadata": {},
   "outputs": [],
   "source": [
    "import jieba.analyse\n",
    "gjc=[]\n",
    "for x in weibodf.str.replace('原图','').drop_duplicates().map(jieba.analyse.textrank):\n",
    "    for y in x:\n",
    "        gjc.append(y)\n",
    "pd.Series(gjc).value_counts().to_excel('关键词-lulei.xlsx',encoding='gb18030')"
   ]
  },
  {
   "cell_type": "code",
   "execution_count": null,
   "metadata": {},
   "outputs": [],
   "source": [
    "weibodf[weibodf.map(lambda x:'酸奶' in x)].drop_duplicates().to_excel('weibo-lulei.xlsx',index=False,encoding='gb18030')"
   ]
  },
  {
   "cell_type": "code",
   "execution_count": null,
   "metadata": {},
   "outputs": [],
   "source": [
    "drive.close()"
   ]
  },
  {
   "cell_type": "code",
   "execution_count": null,
   "metadata": {},
   "outputs": [],
   "source": []
  },
  {
   "cell_type": "code",
   "execution_count": 7,
   "metadata": {},
   "outputs": [],
   "source": [
    "tasklist = '倩碧活芯乳'\n",
    "tasklist = tasklist.split('；')\n",
    "\n",
    "for i in tasklist:\n",
    "    topicname = i\n",
    "    homepage = r'https://weibo.cn/search/mblog?hideSearchFrame=&keyword=%s&page=' % i\n",
    "    \n",
    "    weibodf = pd.Series()\n",
    "    for homelist in range(1,101,1):\n",
    "        try:\n",
    "            url = homepage+str(homelist)\n",
    "            driver.get(url)\n",
    "            time.sleep(2)\n",
    "            df = pd.Series(re.findall(r'<span class=\"ctt\">.*?赞',driver.page_source))\n",
    "            df = df.str.replace(r'</span><br />',',')\n",
    "            df = df.str.replace(r'<.*?>','')\n",
    "            df = df.map(lambda x:''.join(re.findall(u'[\\u4E00-\\u9FA5，。？！ 0-9.￥a-z@#\\[\\]\\*]',x)))\n",
    "            df = df.str.replace('组图|\\[图片\\]|赞|共.*?张|显示地图|原图','')\n",
    "            df = df.str.replace(r'\\[\\]','')\n",
    "            df = df.str.replace(' |,,',',');df = df.str.replace(',,',',');df = df.str.replace(',,',',')\n",
    "            weibodf = pd.concat([weibodf,df])\n",
    "        except:\n",
    "            pass\n",
    "    \n",
    "    rizhipath = i + '.xlsx'\n",
    "    pd.DataFrame([]).to_excel(rizhipath)\n",
    "    excelWriter = pd.ExcelWriter(rizhipath)\n",
    "    \n",
    "    weibodf.drop_duplicates().to_excel(excelWriter,index=False,sheet_name='原始数据')\n",
    "    \n",
    "    gjc=[]\n",
    "    for x in weibodf.drop_duplicates().map(jieba.analyse.textrank):\n",
    "        for y in x:\n",
    "            gjc.append(y)\n",
    "    \n",
    "    pd.Series(gjc).value_counts().to_excel(excelWriter,sheet_name='词频统计')\n",
    "    \n",
    "    excelWriter.save()\n",
    "    excelWriter.close()"
   ]
  },
  {
   "cell_type": "code",
   "execution_count": 4,
   "metadata": {},
   "outputs": [],
   "source": [
    "driver.close()"
   ]
  },
  {
   "cell_type": "code",
   "execution_count": null,
   "metadata": {},
   "outputs": [],
   "source": []
  },
  {
   "cell_type": "code",
   "execution_count": null,
   "metadata": {},
   "outputs": [],
   "source": []
  },
  {
   "cell_type": "code",
   "execution_count": null,
   "metadata": {},
   "outputs": [],
   "source": []
  }
 ],
 "metadata": {
  "kernelspec": {
   "display_name": "Python 3",
   "language": "python",
   "name": "python3"
  },
  "language_info": {
   "codemirror_mode": {
    "name": "ipython",
    "version": 3
   },
   "file_extension": ".py",
   "mimetype": "text/x-python",
   "name": "python",
   "nbconvert_exporter": "python",
   "pygments_lexer": "ipython3",
   "version": "3.6.8"
  }
 },
 "nbformat": 4,
 "nbformat_minor": 1
}
