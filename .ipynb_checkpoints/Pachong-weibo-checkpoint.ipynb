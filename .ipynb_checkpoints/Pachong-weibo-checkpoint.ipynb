{
 "cells": [
  {
   "cell_type": "code",
   "execution_count": 13,
   "metadata": {},
   "outputs": [],
   "source": [
    "from selenium import webdriver\n",
    "import time,re,random,sys\n",
    "import pandas as pd\n",
    "\n",
    "driver = webdriver.Chrome()\n",
    "driver.set_window_size(400,600)"
   ]
  },
  {
   "cell_type": "code",
   "execution_count": 14,
   "metadata": {
    "scrolled": false
   },
   "outputs": [],
   "source": [
    "ordernm = -10\n",
    "zhdf = pd.read_excel('zhmm.xlsx')\n",
    "zhanghao,mima = zhdf.iloc[ordernm]['zhanghao'],zhdf.iloc[ordernm]['mima']\n",
    "driver.get('https://passport.weibo.cn/signin/login?');time.sleep(1)\n",
    "elem = driver.find_element_by_id('loginName')\n",
    "elem.send_keys(zhanghao)\n",
    "elem = driver.find_element_by_id('loginPassword')\n",
    "elem.send_keys(mima)\n",
    "driver.find_element_by_id('loginAction').click();time.sleep(5)"
   ]
  },
  {
   "cell_type": "code",
   "execution_count": null,
   "metadata": {},
   "outputs": [],
   "source": [
    "topicname = '酸奶搜索词'\n",
    "homepage = r'https://weibo.cn/search/mblog?hideSearchFrame=&keyword=酸奶&page='\n",
    "    \n",
    "weibodf = pd.Series()\n",
    "for homelist in range(1,100,1):\n",
    "    url = homepage+str(homelist)\n",
    "    driver.get(url)\n",
    "    time.sleep(1.5)\n",
    "    df = pd.Series(re.findall(r'<span class=\"ctt\">.*?赞',driver.page_source))\n",
    "    df = df.str.replace(r'</span><br />',',')\n",
    "    df = df.str.replace(r'<.*?>','')\n",
    "    df = df.map(lambda x:''.join(re.findall(u'[\\u4E00-\\u9FA5，。？！ 0-9.￥a-z@#\\[\\]\\*]',x)))\n",
    "    df = df.str.replace('组图|\\[图片\\]|赞|共.*?张|显示地图|','')\n",
    "    df = df.str.replace(r'\\[\\]','')\n",
    "    df = df.str.replace(' |,,',',');df = df.str.replace(',,',',');df = df.str.replace(',,',',')\n",
    "    \n",
    "    weibodf = pd.concat([weibodf,df])\n",
    "\n",
    "weibodf.name = 'content'\n",
    "weibodf\n",
    "#weibodf.to_csv(topicname+'.csv',index=False)"
   ]
  },
  {
   "cell_type": "code",
   "execution_count": 33,
   "metadata": {},
   "outputs": [],
   "source": [
    "pd.DataFrame({\n",
    "    '原数据':weibodf.str.replace('原图',''),\n",
    "    '长度':weibodf.map(len)\n",
    "}).drop_duplicates().to_excel('weibo-lulei.xlsx',index=False,encoding='gb18030')"
   ]
  },
  {
   "cell_type": "code",
   "execution_count": 38,
   "metadata": {},
   "outputs": [],
   "source": [
    "import jieba.analyse\n",
    "gjc=[]\n",
    "for x in weibodf.str.replace('原图','').drop_duplicates().map(jieba.analyse.textrank):\n",
    "    for y in x:\n",
    "        gjc.append(y)\n",
    "pd.Series(gjc).value_counts().to_excel('关键词-lulei.xlsx',encoding='gb18030')"
   ]
  },
  {
   "cell_type": "code",
   "execution_count": null,
   "metadata": {},
   "outputs": [],
   "source": [
    "weibodf[weibodf.map(lambda x:'酸奶' in x)].drop_duplicates().to_excel('weibo-lulei.xlsx',index=False,encoding='gb18030')"
   ]
  },
  {
   "cell_type": "code",
   "execution_count": null,
   "metadata": {},
   "outputs": [],
   "source": []
  }
 ],
 "metadata": {
  "kernelspec": {
   "display_name": "Python 3",
   "language": "python",
   "name": "python3"
  },
  "language_info": {
   "codemirror_mode": {
    "name": "ipython",
    "version": 3
   },
   "file_extension": ".py",
   "mimetype": "text/x-python",
   "name": "python",
   "nbconvert_exporter": "python",
   "pygments_lexer": "ipython3",
   "version": "3.6.6"
  }
 },
 "nbformat": 4,
 "nbformat_minor": 1
}
