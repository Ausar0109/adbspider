{
 "cells": [
  {
   "cell_type": "code",
   "execution_count": 2,
   "metadata": {},
   "outputs": [
    {
     "ename": "ModuleNotFoundError",
     "evalue": "No module named 'pandas'",
     "output_type": "error",
     "traceback": [
      "\u001b[1;31m---------------------------------------------------------------------------\u001b[0m",
      "\u001b[1;31mModuleNotFoundError\u001b[0m                       Traceback (most recent call last)",
      "\u001b[1;32m<ipython-input-2-1e6412da969f>\u001b[0m in \u001b[0;36m<module>\u001b[1;34m\u001b[0m\n\u001b[0;32m      1\u001b[0m \u001b[1;32mfrom\u001b[0m \u001b[0mselenium\u001b[0m \u001b[1;32mimport\u001b[0m \u001b[0mwebdriver\u001b[0m\u001b[1;33m\u001b[0m\u001b[0m\n\u001b[0;32m      2\u001b[0m \u001b[1;32mimport\u001b[0m \u001b[0mtime\u001b[0m\u001b[1;33m,\u001b[0m\u001b[0mre\u001b[0m\u001b[1;33m,\u001b[0m\u001b[0mrandom\u001b[0m\u001b[1;33m\u001b[0m\u001b[0m\n\u001b[1;32m----> 3\u001b[1;33m \u001b[1;32mimport\u001b[0m \u001b[0mpandas\u001b[0m \u001b[1;32mas\u001b[0m \u001b[0mpd\u001b[0m\u001b[1;33m\u001b[0m\u001b[0m\n\u001b[0m\u001b[0;32m      4\u001b[0m \u001b[1;31m##导入py模块\u001b[0m\u001b[1;33m\u001b[0m\u001b[1;33m\u001b[0m\u001b[0m\n",
      "\u001b[1;31mModuleNotFoundError\u001b[0m: No module named 'pandas'"
     ]
    }
   ],
   "source": [
    "from selenium import webdriver\n",
    "import time,re,random\n",
    "import pandas as pd\n",
    "##导入py模块"
   ]
  },
  {
   "cell_type": "code",
   "execution_count": null,
   "metadata": {
    "collapsed": true
   },
   "outputs": [],
   "source": [
    "zhanghao = \n",
    "mima = \n",
    "driver = webdriver.Chrome()\n",
    "driver.get('https://passport.weibo.cn/signin/login?')\n",
    "time.sleep(1)\n",
    "elem = driver.find_element_by_id('loginName')\n",
    "elem.send_keys(zhanghao)\n",
    "elem = driver.find_element_by_id('loginPassword')\n",
    "elem.send_keys(mima)\n",
    "driver.find_element_by_id('loginAction').click()\n",
    "time.sleep(5)"
   ]
  },
  {
   "cell_type": "code",
   "execution_count": null,
   "metadata": {
    "collapsed": true
   },
   "outputs": [],
   "source": [
    "attitude_keyurl = r'<a href=\"https://weibo.cn/attitude/.*?</a>'\n",
    "repost_keyurl = r'<a href=\"https://weibo.cn/repost/.*?</a>'\n",
    "comment_keyurl = r'<a href=\"https://weibo.cn/comment/.{45,52}>评论.*?</a>'\n",
    "###设定weiboid检索关键词\n",
    "def makeattitudeurllist(x):\n",
    "    uum = weibodf.iloc[x]\n",
    "    attitude_url = ['https://weibo.cn/attitude/'+uum['id']+'?rl=1&page='+str(x) \n",
    "                    for x in range(1,int(uum['attitude_num'])//10+2,1)]\n",
    "    return(attitude_url)\n",
    "def makereposturllist(x):\n",
    "    uum = weibodf.iloc[x]\n",
    "    repost_url = ['https://weibo.cn/repost/'+uum['id']+'?uid='+uum['uid']+'&&page='+str(x) \n",
    "                  for x in range(1,int(uum['repost_num'])//10+2,1)]\n",
    "    return(repost_url)\n",
    "def makecommenturllist(x):\n",
    "    uum = weibodf.iloc[x]\n",
    "    comment_url = ['https://weibo.cn/comment/'+uum['id']+'?&uid='+uum['uid']+'&&page='+str(x) \n",
    "                   for x in range(1,int(uum['comment_num'])//10+2,1)]\n",
    "    return(comment_url)\n",
    "#定义造链接函数\n",
    "weibodf['attitude_list'] = weibodf['No'].map(makeattitudeurllist)\n",
    "weibodf['repost_list'] = weibodf['No'].map(makereposturllist)\n",
    "weibodf['comment_list'] = weibodf['No'].map(makecommenturllist)\n",
    "weibodf['all_list'] = weibodf['attitude_list']+weibodf['repost_list']+weibodf['comment_list']\n",
    "#造链接过程"
   ]
  },
  {
   "cell_type": "code",
   "execution_count": null,
   "metadata": {
    "collapsed": true
   },
   "outputs": [],
   "source": [
    "###------链接\n",
    "starturl = 'https://weibo.cn/fbb0916?page='\n",
    "###设定起始主页\n",
    "weibodf = pd.DataFrame()\n",
    "###初始设定微博数据库\n",
    "uidlist = pd.Series()\n",
    "###初始设定uid列表"
   ]
  },
  {
   "cell_type": "code",
   "execution_count": null,
   "metadata": {
    "collapsed": true
   },
   "outputs": [],
   "source": [
    "###设定起始主页\n",
    "for i in range(1,37,1):#设定hash微博数据库范围\n",
    "    url = starturl+str(i)\n",
    "    driver.get(url)\n",
    "    time.sleep(1.5)\n",
    "    ###hash主页\n",
    "    df = pd.DataFrame({\n",
    "        'attitude':re.findall(attitude_keyurl,driver.page_source),\n",
    "        'repost':re.findall(repost_keyurl,driver.page_source),\n",
    "        'comment':re.findall(comment_keyurl,driver.page_source)\n",
    "    })\n",
    "    weibodf = pd.concat([weibodf,df]).drop_duplicates()\n",
    "    ###写入微博数据库\n",
    "    uid = pd.Series(re.findall(r'uid=[0-9]{8,10}&',driver.page_source)).map(lambda x:x[4:-1])\n",
    "    uidlist = pd.concat([uidlist,uid]).drop_duplicates()\n",
    "    ###填充uid列表"
   ]
  },
  {
   "cell_type": "code",
   "execution_count": null,
   "metadata": {
    "collapsed": true
   },
   "outputs": [],
   "source": [
    "weibodf['No']=range(len(weibodf))\n",
    "weibodf['id'] = weibodf['repost'].map(lambda x:re.findall('[A-Za-z][A-Z0-9a-z]{8}',x)).map(lambda x:x[0])\n",
    "weibodf['uid'] = weibodf['repost'].map(lambda x:re.findall('[0-9]{8,10}',x)).map(lambda x:x[0])\n",
    "weibodf['attitude_num'] = weibodf['attitude'].map(lambda x:re.findall(r'赞.*?<',x)).map(lambda x:x[0]).map(lambda x:x[2:-2])\n",
    "weibodf['repost_num'] = weibodf['repost'].map(lambda x:re.findall(r'转发.*?<',x)).map(lambda x:x[0]).map(lambda x:x[3:-2])\n",
    "weibodf['comment_num'] = weibodf['comment'].map(lambda x:re.findall(r'评论.*?<',x)).map(lambda x:x[0]).map(lambda x:x[3:-2])\n",
    "###整理微博数据"
   ]
  },
  {
   "cell_type": "code",
   "execution_count": null,
   "metadata": {},
   "outputs": [],
   "source": [
    "for i in weibodf['all_list']:\n",
    "    for m in i:\n",
    "        driver.get(m)\n",
    "        time.sleep(2)\n",
    "        uid = pd.Series(re.findall(r'/u/[0-9]{8,10}',driver.page_source)).map(lambda x:x[3:])\n",
    "        uidlist = pd.concat([uidlist,uid])\n",
    "###hash urllist"
   ]
  },
  {
   "cell_type": "code",
   "execution_count": null,
   "metadata": {},
   "outputs": [],
   "source": [
    "print('去重之前有%s人' % len(uidlist))\n",
    "uidlist = uidlist.drop_duplicates().map(int)\n",
    "print('去重之后有%s人' % len(uidlist))\n",
    "uidlist.to_csv('羽西uid.csv',index = False,encoding='utf-8')\n",
    "###可选导出uidlist"
   ]
  }
 ],
 "metadata": {
  "kernelspec": {
   "display_name": "Python 3",
   "language": "python",
   "name": "python3"
  },
  "language_info": {
   "codemirror_mode": {
    "name": "ipython",
    "version": 3
   },
   "file_extension": ".py",
   "mimetype": "text/x-python",
   "name": "python",
   "nbconvert_exporter": "python",
   "pygments_lexer": "ipython3",
   "version": "3.6.6"
  }
 },
 "nbformat": 4,
 "nbformat_minor": 1
}
